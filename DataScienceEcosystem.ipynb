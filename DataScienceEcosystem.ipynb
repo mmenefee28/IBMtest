<center>
    <img src="https://cf-courses-data.s3.us.cloud-object-storage.appdomain.cloud/IBMDeveloperSkillsNetwork-DS0105EN-SkillsNetwork/labs/Module2/images/SN_web_lightmode.png" width="300" alt="cognitiveclass.ai logo">
</center>


#### Add your code below following the instructions given in the course

# Data Science Tools and Ecosystem

## __Author:__ 
Matt Menefee

In this notebook, Data Science Tools and Ecosystem are summarized

__Objectives__
- Listing the languages and common tools of a data scientist
- Practice Jupyter notebook formatting skills
- Practice making a Markdown Table
- Upload and share to github
- Practice Ordered/ Unordered Lists

Some of the popular languages that Data Scientists use are:
1. python
2. R
3. Julia
4. Scala
5. SQL
6. Java
7. Swift

lang_list = ["python","R","Julia","Scala","SQL","Java","Swift"]

Some of the commonly used libraries used by Data Scientists include:
1. Pandas
2. Numpy
3. Matplotlib
4. Scikit-learn
5. Keras
6. Tensorflow
7. Pytorch

lib_list = ["pandas","numpy","matplotlib","scikit-learn","keras","tensorflow","pytorch"]

| Data Science Tools |
| ------------------ |
| Jupyter Notebooks |
| Coding IDEs |
| Tableau |
| Spark |
| Sas |
| Rapid Miner |

import pandas as pd
import numpy as np
dat = pd.DataFrame(np.column_stack([lang_list,lib_list]), columns=['Data_Science_languages','Data_Science_Libraries'])
dat

### Below are a few examples of evaluating arithmetic expressions in python.

x = (3*4)+5
# This is a simple Arithmetic expression to multiple then add integers
print(x)

# This will convert 200 minutes to hours by diving by 60
t = 200/60 # if we want the expression to round we can use // instead
print(t)

t2 = 200//60
print(t2)
